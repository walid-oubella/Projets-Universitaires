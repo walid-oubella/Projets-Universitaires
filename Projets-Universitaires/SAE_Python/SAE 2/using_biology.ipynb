{
 "cells": [
  {
   "cell_type": "markdown",
   "id": "a023b3ed",
   "metadata": {},
   "source": [
    "# Notebook de présentation de la SAE S01.02"
   ]
  },
  {
   "cell_type": "markdown",
   "id": "47840237",
   "metadata": {},
   "source": [
    "## Binôme \n",
    "\n",
    "* Amadou Dia\n",
    "* Chrinovic Kibangu"
   ]
  },
  {
   "cell_type": "markdown",
   "id": "9c4d7c48",
   "metadata": {},
   "source": [
    "# Importation des modules"
   ]
  },
  {
   "cell_type": "code",
   "execution_count": null,
   "id": "757f57d9",
   "metadata": {},
   "outputs": [],
   "source": [
    "from json import *"
   ]
  },
  {
   "cell_type": "markdown",
   "id": "c3345c93",
   "metadata": {},
   "source": [
    "# Questions\n",
    "## Question 1\n",
    "\n",
    "Ici nous avons crée un tableau `ADN` avec les 4 lettres `A` `C` `T` `G`.\n"
   ]
  },
  {
   "cell_type": "code",
   "execution_count": null,
   "id": "a5c0ae57",
   "metadata": {},
   "outputs": [],
   "source": [
    "adn = ['A','T','G','C']\n",
    "def est_base(c):\n",
    "    return c in adn"
   ]
  },
  {
   "cell_type": "markdown",
   "id": "a84c7174",
   "metadata": {},
   "source": [
    "## Question 2\n",
    "On va parcourir la `Chaîne de caractères` `s` et si le caractère ne correspond pas à la base de l'adn on retourne `Faux` "
   ]
  },
  {
   "cell_type": "code",
   "execution_count": null,
   "id": "63c58288",
   "metadata": {},
   "outputs": [],
   "source": [
    "def est_adn(s):\n",
    "    for c in s:\n",
    "        if not est_base(c):\n",
    "            return False\n",
    "    return True"
   ]
  },
  {
   "cell_type": "markdown",
   "id": "bbf5c8f0",
   "metadata": {},
   "source": [
    "## Question 3\n",
    "Pour cette fonction on verifie d'abord si la chaîne correspond à un `ADN`, ensuite on ajoute les lettres dans un tableau `t` pour après remplacer les `T` par des `U`, puis on reconverti le tableau en chaine de caractere."
   ]
  },
  {
   "cell_type": "code",
   "execution_count": null,
   "id": "fbd7ea28",
   "metadata": {},
   "outputs": [],
   "source": [
    "def arn(adn):\n",
    "    t = []\n",
    "    arn = ''\n",
    "    if not est_adn(adn):\n",
    "        return None\n",
    "    \n",
    "    for c in adn:\n",
    "        t.append(c)\n",
    "        \n",
    "    for i,c in enumerate(t):\n",
    "        if c == 'T':\n",
    "            t[i] ='U'\n",
    "            \n",
    "    for c in t:\n",
    "        arn += c\n",
    "        \n",
    "    return arn\n"
   ]
  },
  {
   "cell_type": "markdown",
   "id": "fda8c8e2",
   "metadata": {},
   "source": [
    "## Question 4\n",
    "Ici on demande d'abord si la longueur de l'arn est un multiple de 3, si l'arn n'est pas un multiple de 3 on enleve le codon incomplet.  \n",
    "Mais si l'arn est un multiple de 3, on rempli un tableau avc les codons."
   ]
  },
  {
   "cell_type": "code",
   "execution_count": null,
   "id": "eb7aafc8",
   "metadata": {},
   "outputs": [],
   "source": [
    "def arn_to_codons(arn):\n",
    "    t = []\n",
    "    codon = ''\n",
    "    if len(arn)%3 != 0:\n",
    "        j = len(arn)%3\n",
    "        arn = arn[0 : len(arn)-j]\n",
    "        \n",
    "    for i in range(len(arn)//3):\n",
    "        for i in range(3):\n",
    "            codon += arn[i]\n",
    "        t.append(codon)\n",
    "        codon = ''\n",
    "        arn = arn[3::]"
   ]
  },
  {
   "cell_type": "markdown",
   "id": "d8814f61",
   "metadata": {},
   "source": [
    "## Question 5\n",
    "Pour la fonction `Codon_stop` nous avons parcouru le tableau codon et nous avons verifié si le codon n'etait pas dans le dico des codons."
   ]
  },
  {
   "cell_type": "code",
   "execution_count": null,
   "id": "016f9172",
   "metadata": {},
   "outputs": [],
   "source": [
    "def load_dico_codons_aa(filename):\n",
    "    fichier = open(filename,\"r\")\n",
    "    json = fichier.read()\n",
    "    fichier.close()\n",
    "    dico = loads(json)\n",
    "    return dico\n",
    "\n",
    "def codon_stop(codons,dico):\n",
    "    t = []\n",
    "    for v in codons:\n",
    "        if v not in dico.keys():\n",
    "            t.append(v)\n",
    "    return t\n"
   ]
  },
  {
   "cell_type": "markdown",
   "id": "311a65dd",
   "metadata": {},
   "source": [
    "## Question 6\n",
    "On verifie d'abord si il y a des `codons Stop` et nous le mettons dans une variable `Stop`, ensuite nous parcourons le tableau codons à l'aide d'une boucle, dans la boucle nous allons :\n",
    "- verifier si la valeur est un codon stop.\n",
    "- verifier si la valeur est dans le dictionnaire.\n",
    "  - si c'est le cas on ajoute la valeur de la clé dans un tableau `t`\n",
    "- Après avoir parcouru tout le tableau nous retournons le tableau `t`"
   ]
  },
  {
   "cell_type": "code",
   "execution_count": null,
   "id": "4ec9a556",
   "metadata": {},
   "outputs": [],
   "source": [
    "def codons_to_aa(codons, dico):\n",
    "    t = []\n",
    "    stop = codon_stop(codons,dico)\n",
    "    \n",
    "    for v in codons:\n",
    "        if v in stop:\n",
    "            return t\n",
    "        if v in dico.keys():\n",
    "            t.append(dico[v])\n",
    "    return t"
   ]
  }
 ],
 "metadata": {
  "kernelspec": {
   "display_name": "Python 3",
   "language": "python",
   "name": "python3"
  },
  "language_info": {
   "codemirror_mode": {
    "name": "ipython",
    "version": 3
   },
   "file_extension": ".py",
   "mimetype": "text/x-python",
   "name": "python",
   "nbconvert_exporter": "python",
   "pygments_lexer": "ipython3",
   "version": "3.8.8"
  }
 },
 "nbformat": 4,
 "nbformat_minor": 5
}
